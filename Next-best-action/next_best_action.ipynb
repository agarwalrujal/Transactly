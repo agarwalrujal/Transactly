{
 "cells": [
  {
   "cell_type": "code",
   "execution_count": 4,
   "id": "a6c9db25-9083-489f-adaf-6361fd8b6c45",
   "metadata": {
    "execution": {
     "iopub.execute_input": "2025-06-20T17:27:01.252745Z",
     "iopub.status.busy": "2025-06-20T17:27:01.252411Z",
     "iopub.status.idle": "2025-06-20T17:27:01.399644Z",
     "shell.execute_reply": "2025-06-20T17:27:01.399047Z",
     "shell.execute_reply.started": "2025-06-20T17:27:01.252724Z"
    }
   },
   "outputs": [
    {
     "name": "stdout",
     "output_type": "stream",
     "text": [
      "\n",
      "🔍 Top 10 Recommended Actions for User 'user0639':\n",
      "\n",
      "1. Action ID: ACTION_4575\n",
      "2. Action ID: act6616\n",
      "3. Action ID: ACTION_0652\n",
      "4. Action ID: ACTION_0627\n",
      "5. Action ID: ACTION_0509\n",
      "6. Action ID: ACTION_0457\n",
      "7. Action ID: ACTION_0227\n",
      "8. Action ID: ACTION_0093\n",
      "9. Action ID: ACTION_0087\n",
      "10. Action ID: ACTION_0074\n"
     ]
    }
   ],
   "source": [
    "import boto3\n",
    "\n",
    "# --- Configuration ---\n",
    "campaign_arn = \"arn:aws:personalize:eu-central-1:703761849224:campaign/next-best\"  # <-- Replace this\n",
    "user_id = \"user0639\"  # Replace with a real userId from your dataset\n",
    "num_results = 10\n",
    "\n",
    "# --- Connect to Personalize Runtime ---\n",
    "personalize_runtime = boto3.client(\"personalize-runtime\", region_name=\"eu-central-1\")\n",
    "\n",
    "#--- Get Action Recommendations ---\n",
    "response = personalize_runtime.get_action_recommendations(\n",
    "    campaignArn=campaign_arn,\n",
    "    userId=user_id,\n",
    "    numResults=num_results\n",
    ")\n",
    "\n",
    "# --- Print Results ---\n",
    "print(f\"\\n🔍 Top {num_results} Recommended Actions for User '{user_id}':\\n\")\n",
    "\n",
    "for i, rec in enumerate(response['actionList'], 1):\n",
    "    print(f\"{i}. Action ID: {rec['actionId']}\")\n",
    "    if 'itemId' in rec:\n",
    "        print(f\"   Related Item ID: {rec['itemId']}\")\n",
    "    # if 'score' in rec:\n",
    "    #     print(f\"   Confidence Score: {rec['score']:.4f}\")\n",
    "\n"
   ]
  },
  {
   "cell_type": "code",
   "execution_count": 2,
   "id": "f9dd316e-50bb-4a31-8d59-03a9d05e1eab",
   "metadata": {
    "execution": {
     "iopub.execute_input": "2025-06-20T17:26:02.323019Z",
     "iopub.status.busy": "2025-06-20T17:26:02.322743Z",
     "iopub.status.idle": "2025-06-20T17:26:02.515210Z",
     "shell.execute_reply": "2025-06-20T17:26:02.514474Z",
     "shell.execute_reply.started": "2025-06-20T17:26:02.322998Z"
    }
   },
   "outputs": [
    {
     "name": "stdout",
     "output_type": "stream",
     "text": [
      "\n",
      "🔍 Top 5 Recommended Actions for User 'user0001':\n",
      "\n",
      "1. Item ID: item_0497\n",
      "   Confidence Score: 0.0026\n",
      "2. Item ID: item_0198\n",
      "   Confidence Score: 0.0025\n",
      "3. Item ID: item_0345\n",
      "   Confidence Score: 0.0025\n",
      "4. Item ID: item_0323\n",
      "   Confidence Score: 0.0025\n",
      "5. Item ID: item_0101\n",
      "   Confidence Score: 0.0025\n",
      "6. Item ID: item_0292\n",
      "   Confidence Score: 0.0025\n",
      "7. Item ID: item_0484\n",
      "   Confidence Score: 0.0025\n",
      "8. Item ID: item_0274\n",
      "   Confidence Score: 0.0024\n",
      "9. Item ID: item_0242\n",
      "   Confidence Score: 0.0024\n",
      "10. Item ID: item_0337\n",
      "   Confidence Score: 0.0024\n"
     ]
    }
   ],
   "source": [
    "import boto3\n",
    "\n",
    "# --- Configuration ---\n",
    "campaign_arn = \"arn:aws:personalize:eu-central-1:703761849224:campaign/new_test\"  # <-- Replace this\n",
    "user_id = \"user0001\"  # Replace with a real userId from your dataset\n",
    "num_results = 5\n",
    "\n",
    "# --- Connect to Personalize Runtime ---\n",
    "personalize_runtime = boto3.client(\"personalize-runtime\", region_name=\"eu-central-1\")\n",
    "\n",
    "\n",
    "response = personalize_runtime.get_recommendations(\n",
    "    campaignArn=campaign_arn,\n",
    "    userId=user_id,\n",
    "    numResults=10\n",
    ")\n",
    "\n",
    "# --- Print Results ---\n",
    "print(f\"\\n🔍 Top {num_results} Recommended Actions for User '{user_id}':\\n\")\n",
    "\n",
    "# for i, rec in enumerate(response['actionList'], 1):\n",
    "#     print(f\"{i}. Action ID: {rec['actionId']}\")\n",
    "#     if 'itemId' in rec:\n",
    "#         print(f\"   Related Item ID: {rec['itemId']}\")\n",
    "#     if 'score' in rec:\n",
    "#         print(f\"   Confidence Score: {rec['score']:.4f}\")\n",
    "for i, rec in enumerate(response['itemList'], 1):\n",
    "    print(f\"{i}. Item ID: {rec['itemId']}\")\n",
    "    if 'score' in rec:\n",
    "        print(f\"   Confidence Score: {rec['score']:.4f}\")\n"
   ]
  },
  {
   "cell_type": "code",
   "execution_count": null,
   "id": "d098722c-1f26-4a1d-b58f-390ee4a6ed96",
   "metadata": {},
   "outputs": [],
   "source": []
  }
 ],
 "metadata": {
  "kernelspec": {
   "display_name": "Python 3 (ipykernel)",
   "language": "python",
   "name": "python3"
  },
  "language_info": {
   "codemirror_mode": {
    "name": "ipython",
    "version": 3
   },
   "file_extension": ".py",
   "mimetype": "text/x-python",
   "name": "python",
   "nbconvert_exporter": "python",
   "pygments_lexer": "ipython3",
   "version": "3.12.9"
  }
 },
 "nbformat": 4,
 "nbformat_minor": 5
}
