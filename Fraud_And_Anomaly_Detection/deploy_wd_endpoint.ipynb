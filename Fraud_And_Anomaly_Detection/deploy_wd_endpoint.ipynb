{
 "cells": [
  {
   "cell_type": "code",
   "execution_count": 13,
   "id": "424fe8a6-9e3c-4df6-9a40-97d3b6b6b8d5",
   "metadata": {
    "execution": {
     "iopub.execute_input": "2025-06-18T22:27:16.542944Z",
     "iopub.status.busy": "2025-06-18T22:27:16.542617Z",
     "iopub.status.idle": "2025-06-18T22:35:38.184963Z",
     "shell.execute_reply": "2025-06-18T22:35:38.184225Z",
     "shell.execute_reply.started": "2025-06-18T22:27:16.542918Z"
    }
   },
   "outputs": [
    {
     "name": "stdout",
     "output_type": "stream",
     "text": [
      "-------------!"
     ]
    }
   ],
   "source": [
    "import sagemaker\n",
    "from sagemaker import get_execution_role\n",
    "from sagemaker.pytorch import PyTorchModel\n",
    "session = sagemaker.Session()\n",
    "role = get_execution_role()\n",
    "\n",
    "wd_model = PyTorchModel(\n",
    "    model_data=\"s3://transactly-data-lake/Fraud_data/raw/output/models/wd/pipelines-tszv4knlzn8h-TrainWideDeep-X9wlQ7zuVh/output/model.tar.gz\",\n",
    "    role=role,\n",
    "    entry_point=\"wd_inference.py\",\n",
    "    framework_version=\"1.13.1\",  # or appropriate\n",
    "    py_version=\"py39\",\n",
    "    source_dir=\".\",  # if metadata or other helper files are in the same folder\n",
    "    sagemaker_session=session\n",
    ")\n",
    "predictor = wd_model.deploy(\n",
    "    initial_instance_count=1,\n",
    "    instance_type=\"ml.m5.large\",\n",
    "    endpoint_name='Wide-and-deep2'\n",
    ")\n"
   ]
  },
  {
   "cell_type": "code",
   "execution_count": 26,
   "id": "58fc74fa-bbae-4d3e-bb70-1c4f67e26cc3",
   "metadata": {
    "execution": {
     "iopub.execute_input": "2025-06-19T11:46:56.547528Z",
     "iopub.status.busy": "2025-06-19T11:46:56.546805Z",
     "iopub.status.idle": "2025-06-19T11:46:56.592849Z",
     "shell.execute_reply": "2025-06-19T11:46:56.592194Z",
     "shell.execute_reply.started": "2025-06-19T11:46:56.547501Z"
    }
   },
   "outputs": [
    {
     "name": "stdout",
     "output_type": "stream",
     "text": [
      "Prediction: {\"fraud_score\": 0.003883616765961051}\n"
     ]
    }
   ],
   "source": [
    "import json\n",
    "import boto3\n",
    "\n",
    "payload = {\n",
    "    \"wide\": [{\n",
    "        \"amount\": 249.99,\n",
    "        \"ip_risk_score\": 0.8,\n",
    "        \"country_code\": \"IN\",\n",
    "        \"device_age_days\": 5,\n",
    "        \"hour_of_day\": 18,\n",
    "        \"is_vpn\": 0,\n",
    "        \"distance_from_home_km\": 12.5,\n",
    "        \"category_id\": 3,\n",
    "        \"cvv_attempts\": 1,\n",
    "        \"session_duration_sec\": 240,\n",
    "        \"is_new_device\": 0,\n",
    "        \"payment_method\": \"card\",\n",
    "        \"shipping_billing_match\": 1\n",
    "    }],\n",
    "    \"deep\": [[0.1] * 122]  \n",
    "}\n",
    "\n",
    "response = client.invoke_endpoint(\n",
    "    EndpointName=\"Wide-and-deep2\",\n",
    "    ContentType=\"application/json\",\n",
    "    Accept=\"application/json\",\n",
    "    Body=json.dumps(payload)\n",
    ")\n",
    "\n",
    "result = response['Body'].read().decode(\"utf-8\")\n",
    "print(\"Prediction:\", result)\n"
   ]
  },
  {
   "cell_type": "code",
   "execution_count": 38,
   "id": "45e4d1af-23af-4d14-9bb2-b5bc0eb79bcb",
   "metadata": {
    "execution": {
     "iopub.execute_input": "2025-06-19T11:48:33.364040Z",
     "iopub.status.busy": "2025-06-19T11:48:33.363770Z",
     "iopub.status.idle": "2025-06-19T11:48:33.385692Z",
     "shell.execute_reply": "2025-06-19T11:48:33.385004Z",
     "shell.execute_reply.started": "2025-06-19T11:48:33.364021Z"
    }
   },
   "outputs": [
    {
     "name": "stdout",
     "output_type": "stream",
     "text": [
      "Prediction: {\"fraud_score\": 0.0175968948751688}\n"
     ]
    }
   ],
   "source": [
    "import json\n",
    "import boto3\n",
    "\n",
    "payload = {\n",
    "    \"wide\": [{\n",
    "        \"amount\": 249.99,\n",
    "        \"ip_risk_score\": 0.8,\n",
    "        \"country_code\": \"IN\",\n",
    "        \"device_age_days\": 5,\n",
    "        \"hour_of_day\": 10,\n",
    "        \"is_vpn\": 0,\n",
    "        \"distance_from_home_km\": 12.5,\n",
    "        \"category_id\": 3,\n",
    "        \"cvv_attempts\": 1,\n",
    "        \"session_duration_sec\": 240,\n",
    "        \"is_new_device\": 1,\n",
    "        \"payment_method\": \"card\",\n",
    "        \"shipping_billing_match\": 1\n",
    "    }],\n",
    "    \"deep\": [[-1] * 122]  # Dummy vector, must match length\n",
    "}\n",
    "\n",
    "response = client.invoke_endpoint(\n",
    "    EndpointName=\"Wide-and-deep2\",\n",
    "    ContentType=\"application/json\",\n",
    "    Accept=\"application/json\",\n",
    "    Body=json.dumps(payload)\n",
    ")\n",
    "\n",
    "result = response['Body'].read().decode(\"utf-8\")\n",
    "print(\"Prediction:\", result)\n"
   ]
  },
  {
   "cell_type": "code",
   "execution_count": 90,
   "id": "96f46094-6aa3-4548-bebd-bdb51dce8032",
   "metadata": {
    "execution": {
     "iopub.execute_input": "2025-06-20T17:28:30.847165Z",
     "iopub.status.busy": "2025-06-20T17:28:30.846609Z",
     "iopub.status.idle": "2025-06-20T17:28:30.925149Z",
     "shell.execute_reply": "2025-06-20T17:28:30.924385Z",
     "shell.execute_reply.started": "2025-06-20T17:28:30.847121Z"
    }
   },
   "outputs": [
    {
     "name": "stdout",
     "output_type": "stream",
     "text": [
      "Prediction: {\"fraud_score\": 5.781486400735503e-09}\n"
     ]
    }
   ],
   "source": [
    "import json\n",
    "import boto3\n",
    "\n",
    "payload = {\n",
    "    \"wide\": [{\n",
    "        \"amount\": 249.99,\n",
    "        \"ip_risk_score\": 0.8,\n",
    "        \"country_code\": \"IN\",\n",
    "        \"device_age_days\": 5,\n",
    "        \"hour_of_day\": 10,\n",
    "        \"is_vpn\": 0,\n",
    "        \"distance_from_home_km\": 12.5,\n",
    "        \"category_id\": 3,\n",
    "        \"cvv_attempts\": 1,\n",
    "        \"session_duration_sec\": 2,\n",
    "        \"is_new_device\": 1,\n",
    "        \"payment_method\": \"card\",\n",
    "        \"shipping_billing_match\": 1\n",
    "    }],\n",
    "    \"deep\": [[-1] * 122]  # Dummy vector, must match length\n",
    "}\n",
    "\n",
    "response = client.invoke_endpoint(\n",
    "    EndpointName=\"Wide-and-deep2\",\n",
    "    ContentType=\"application/json\",\n",
    "    Accept=\"application/json\",\n",
    "    Body=json.dumps(payload)\n",
    ")\n",
    "\n",
    "result = response['Body'].read().decode(\"utf-8\")\n",
    "print(\"Prediction:\", result)\n"
   ]
  },
  {
   "cell_type": "code",
   "execution_count": null,
   "id": "179c64b8-936f-47ae-83ca-a147f7080e2d",
   "metadata": {},
   "outputs": [],
   "source": []
  }
 ],
 "metadata": {
  "kernelspec": {
   "display_name": "Python 3 (ipykernel)",
   "language": "python",
   "name": "python3"
  },
  "language_info": {
   "codemirror_mode": {
    "name": "ipython",
    "version": 3
   },
   "file_extension": ".py",
   "mimetype": "text/x-python",
   "name": "python",
   "nbconvert_exporter": "python",
   "pygments_lexer": "ipython3",
   "version": "3.12.9"
  }
 },
 "nbformat": 4,
 "nbformat_minor": 5
}
