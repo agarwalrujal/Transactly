{
 "cells": [
  {
   "cell_type": "code",
   "execution_count": 6,
   "id": "6ccd23bb-e37f-4548-8528-4640f0e209ec",
   "metadata": {
    "execution": {
     "iopub.execute_input": "2025-06-18T19:28:42.376921Z",
     "iopub.status.busy": "2025-06-18T19:28:42.376434Z",
     "iopub.status.idle": "2025-06-18T19:32:14.654591Z",
     "shell.execute_reply": "2025-06-18T19:32:14.653975Z",
     "shell.execute_reply.started": "2025-06-18T19:28:42.376898Z"
    }
   },
   "outputs": [
    {
     "name": "stdout",
     "output_type": "stream",
     "text": [
      "------!"
     ]
    }
   ],
   "source": [
    "import sagemaker\n",
    "from sagemaker import get_execution_role\n",
    "from sagemaker.xgboost.model import XGBoostModel\n",
    "\n",
    "session = sagemaker.Session()\n",
    "role = get_execution_role()\n",
    "\n",
    "xgb_model = XGBoostModel(\n",
    "    model_data='s3://transactly-data-lake/Fraud_data/raw/output/models/xgb/pipelines-59g49bgqtquu-TrainXGBoost-IBVJnoJB52/output/model.tar.gz',  # Replace with your actual path\n",
    "    role=role,\n",
    "    entry_point='xgb_inference.py',  # Optional\n",
    "    framework_version='1.7-1',\n",
    "    sagemaker_session=session\n",
    ")\n",
    "\n",
    "xgb_predictor = xgb_model.deploy(\n",
    "    initial_instance_count=1,\n",
    "    instance_type='ml.m5.large',\n",
    "    endpoint_name='xgb-fraud-endpoint1'\n",
    ")\n"
   ]
  },
  {
   "cell_type": "code",
   "execution_count": 1,
   "id": "6621fcce-d1bf-4d87-bc05-48a55733c26a",
   "metadata": {
    "execution": {
     "iopub.execute_input": "2025-06-18T18:44:11.708592Z",
     "iopub.status.busy": "2025-06-18T18:44:11.707875Z",
     "iopub.status.idle": "2025-06-18T18:44:12.005158Z",
     "shell.execute_reply": "2025-06-18T18:44:12.004407Z",
     "shell.execute_reply.started": "2025-06-18T18:44:11.708564Z"
    }
   },
   "outputs": [
    {
     "name": "stdout",
     "output_type": "stream",
     "text": [
      "fraud-detector-endpoint InService\n"
     ]
    }
   ],
   "source": [
    "import boto3\n",
    "\n",
    "sm_client = boto3.client('sagemaker')\n",
    "\n",
    "response = sm_client.list_endpoints()\n",
    "for ep in response['Endpoints']:\n",
    "    print(ep['EndpointName'], ep['EndpointStatus'])\n"
   ]
  },
  {
   "cell_type": "code",
   "execution_count": 19,
   "id": "17feb24c-f0a3-4828-923d-81f4ff062a76",
   "metadata": {
    "execution": {
     "iopub.execute_input": "2025-06-22T09:38:39.835592Z",
     "iopub.status.busy": "2025-06-22T09:38:39.835223Z",
     "iopub.status.idle": "2025-06-22T09:38:39.928538Z",
     "shell.execute_reply": "2025-06-22T09:38:39.927677Z",
     "shell.execute_reply.started": "2025-06-22T09:38:39.835562Z"
    }
   },
   "outputs": [
    {
     "name": "stdout",
     "output_type": "stream",
     "text": [
      "[0.17367036640644073]\n"
     ]
    }
   ],
   "source": [
    "import boto3\n",
    "import json\n",
    "\n",
    "runtime = boto3.client(\"sagemaker-runtime\")\n",
    "\n",
    "response = runtime.invoke_endpoint(\n",
    "    EndpointName=\"xgb-fraud-endpoint1\",\n",
    "    ContentType=\"application/json\",\n",
    "    Body=json.dumps({\n",
    "        \"amount\": 500.99,\n",
    "        \"ip_risk_score\": 0.17,\n",
    "        \"country_code\": 12,                 \n",
    "        \"device_age_days\": 18,\n",
    "        \"hour_of_day\": 417,\n",
    "        \"is_vpn\": 0,\n",
    "        \"distance_from_home_km\": 15.4,\n",
    "        \"category_id\": 37,                  \n",
    "        \"cvv_attempts\": 0,\n",
    "        \"session_duration_sec\": 2125,\n",
    "        \"is_new_device\": 1,\n",
    "        \"payment_method\": 2,               \n",
    "        \"shipping_billing_match\": 1\n",
    "    })\n",
    ")\n",
    "\n",
    "result = response[\"Body\"].read().decode(\"utf-8\")\n",
    "print(result)  # → something like: [0.842]\n"
   ]
  },
  {
   "cell_type": "code",
   "execution_count": 20,
   "id": "becdd8d7-303e-4256-9d9b-d0fb1d64c094",
   "metadata": {
    "execution": {
     "iopub.execute_input": "2025-06-22T09:38:49.699297Z",
     "iopub.status.busy": "2025-06-22T09:38:49.698630Z",
     "iopub.status.idle": "2025-06-22T09:38:49.703644Z",
     "shell.execute_reply": "2025-06-22T09:38:49.702788Z",
     "shell.execute_reply.started": "2025-06-22T09:38:49.699270Z"
    }
   },
   "outputs": [
    {
     "data": {
      "text/plain": [
       "[0.8736703664064407]"
      ]
     },
     "execution_count": 20,
     "metadata": {},
     "output_type": "execute_result"
    }
   ],
   "source": [
    "import boto3\n",
    "import json\n",
    "\n",
    "runtime = boto3.client(\"sagemaker-runtime\")\n",
    "\n",
    "response = runtime.invoke_endpoint(\n",
    "    EndpointName=\"xgb-fraud-endpoint1\",\n",
    "    ContentType=\"application/json\",\n",
    "    Body=json.dumps({\n",
    "        \"amount\": 500000009.99,\n",
    "        \"ip_risk_score\": 0.87,\n",
    "        \"country_code\": 12,                 \n",
    "        \"device_age_days\": 1810,\n",
    "        \"hour_of_day\": 417,\n",
    "        \"is_vpn\": 0,\n",
    "        \"distance_from_home_km\": 15.4,\n",
    "        \"category_id\": 37,                  \n",
    "        \"cvv_attempts\": 0,\n",
    "        \"session_duration_sec\": 2125,\n",
    "        \"is_new_device\": 1,\n",
    "        \"payment_method\": 2,               \n",
    "        \"shipping_billing_match\": 1\n",
    "    })\n",
    ")\n",
    "\n",
    "result = response[\"Body\"].read().decode(\"utf-8\")\n",
    "print(result)  # → something like: [0.842]\n"
   ]
  },
  {
   "cell_type": "code",
   "execution_count": null,
   "id": "f27f9820-94a7-41af-91a5-96f498d1dc37",
   "metadata": {},
   "outputs": [],
   "source": []
  }
 ],
 "metadata": {
  "kernelspec": {
   "display_name": "Python 3 (ipykernel)",
   "language": "python",
   "name": "python3"
  },
  "language_info": {
   "codemirror_mode": {
    "name": "ipython",
    "version": 3
   },
   "file_extension": ".py",
   "mimetype": "text/x-python",
   "name": "python",
   "nbconvert_exporter": "python",
   "pygments_lexer": "ipython3",
   "version": "3.12.9"
  }
 },
 "nbformat": 4,
 "nbformat_minor": 5
}
