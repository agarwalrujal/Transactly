{
 "cells": [
  {
   "cell_type": "code",
   "execution_count": 57,
   "id": "c12d909c-5567-4c2d-8979-47dd4cc25180",
   "metadata": {
    "execution": {
     "iopub.execute_input": "2025-06-18T21:30:17.304396Z",
     "iopub.status.busy": "2025-06-18T21:30:17.303981Z",
     "iopub.status.idle": "2025-06-18T21:42:51.212562Z",
     "shell.execute_reply": "2025-06-18T21:42:51.211954Z",
     "shell.execute_reply.started": "2025-06-18T21:30:17.304367Z"
    },
    "scrolled": true
   },
   "outputs": [
    {
     "name": "stderr",
     "output_type": "stream",
     "text": [
      "WARNING:sagemaker.workflow.utilities:The input argument instance_type of function (sagemaker.image_uris.retrieve) is a pipeline variable (<class 'sagemaker.workflow.parameters.ParameterString'>), which is interpreted in pipeline execution time only. As the function needs to evaluate the argument value in SDK compile time, the default_value of this Parameter object will be used to override it. Please make sure the default_value is valid.\n",
      "INFO:sagemaker.image_uris:Defaulting to only available Python version: py3\n",
      "WARNING:sagemaker.workflow.utilities:The input argument instance_type of function (sagemaker.image_uris.retrieve) is a pipeline variable (<class 'sagemaker.workflow.parameters.ParameterString'>), which is interpreted in pipeline execution time only. As the function needs to evaluate the argument value in SDK compile time, the default_value of this Parameter object will be used to override it. Please make sure the default_value is valid.\n",
      "INFO:sagemaker.image_uris:Ignoring unnecessary Python version: py3.\n",
      "INFO:sagemaker.image_uris:Ignoring unnecessary instance type: ml.m5.2xlarge.\n",
      "WARNING:sagemaker.workflow.utilities:Popping out 'ProcessingJobName' from the pipeline definition by default since it will be overridden at pipeline execution time. Please utilize the PipelineDefinitionConfig to persist this field in the pipeline definition if desired.\n",
      "WARNING:sagemaker.workflow.utilities:The input argument instance_type of function (sagemaker.image_uris.get_training_image_uri) is a pipeline variable (<class 'sagemaker.workflow.parameters.ParameterString'>), which is interpreted in pipeline execution time only. As the function needs to evaluate the argument value in SDK compile time, the default_value of this Parameter object will be used to override it. Please make sure the default_value is valid.\n",
      "WARNING:sagemaker.workflow.utilities:Popping out 'TrainingJobName' from the pipeline definition by default since it will be overridden at pipeline execution time. Please utilize the PipelineDefinitionConfig to persist this field in the pipeline definition if desired.\n",
      "WARNING:sagemaker.workflow.utilities:The input argument instance_type of function (sagemaker.image_uris.get_training_image_uri) is a pipeline variable (<class 'sagemaker.workflow.parameters.ParameterString'>), which is interpreted in pipeline execution time only. As the function needs to evaluate the argument value in SDK compile time, the default_value of this Parameter object will be used to override it. Please make sure the default_value is valid.\n",
      "INFO:sagemaker.image_uris:image_uri is not presented, retrieving image_uri based on instance_type, framework etc.\n",
      "WARNING:sagemaker.workflow.utilities:The input argument instance_type of function (sagemaker.image_uris.get_training_image_uri) is a pipeline variable (<class 'sagemaker.workflow.parameters.ParameterString'>), which is interpreted in pipeline execution time only. As the function needs to evaluate the argument value in SDK compile time, the default_value of this Parameter object will be used to override it. Please make sure the default_value is valid.\n",
      "INFO:sagemaker.image_uris:image_uri is not presented, retrieving image_uri based on instance_type, framework etc.\n",
      "WARNING:sagemaker.workflow.utilities:Popping out 'TrainingJobName' from the pipeline definition by default since it will be overridden at pipeline execution time. Please utilize the PipelineDefinitionConfig to persist this field in the pipeline definition if desired.\n",
      "WARNING:sagemaker.workflow.utilities:Popping out 'ProcessingJobName' from the pipeline definition by default since it will be overridden at pipeline execution time. Please utilize the PipelineDefinitionConfig to persist this field in the pipeline definition if desired.\n",
      "WARNING:sagemaker.workflow.utilities:The input argument instance_type of function (sagemaker.image_uris.get_training_image_uri) is a pipeline variable (<class 'sagemaker.workflow.parameters.ParameterString'>), which is interpreted in pipeline execution time only. As the function needs to evaluate the argument value in SDK compile time, the default_value of this Parameter object will be used to override it. Please make sure the default_value is valid.\n",
      "WARNING:sagemaker.workflow.utilities:Popping out 'TrainingJobName' from the pipeline definition by default since it will be overridden at pipeline execution time. Please utilize the PipelineDefinitionConfig to persist this field in the pipeline definition if desired.\n",
      "WARNING:sagemaker.workflow.utilities:The input argument instance_type of function (sagemaker.image_uris.get_training_image_uri) is a pipeline variable (<class 'sagemaker.workflow.parameters.ParameterString'>), which is interpreted in pipeline execution time only. As the function needs to evaluate the argument value in SDK compile time, the default_value of this Parameter object will be used to override it. Please make sure the default_value is valid.\n",
      "INFO:sagemaker.image_uris:image_uri is not presented, retrieving image_uri based on instance_type, framework etc.\n",
      "WARNING:sagemaker.workflow.utilities:Popping out 'TrainingJobName' from the pipeline definition by default since it will be overridden at pipeline execution time. Please utilize the PipelineDefinitionConfig to persist this field in the pipeline definition if desired.\n"
     ]
    },
    {
     "name": "stdout",
     "output_type": "stream",
     "text": [
      "{'PipelineArn': 'arn:aws:sagemaker:eu-north-1:703761849224:pipeline/AmazonFraudDetectionPipeline', 'PipelineExecutionArn': 'arn:aws:sagemaker:eu-north-1:703761849224:pipeline/AmazonFraudDetectionPipeline/execution/tszv4knlzn8h', 'PipelineExecutionDisplayName': 'execution-1750282218907', 'PipelineExecutionStatus': 'Succeeded', 'PipelineExperimentConfig': {'ExperimentName': 'amazonfrauddetectionpipeline', 'TrialName': 'tszv4knlzn8h'}, 'CreationTime': datetime.datetime(2025, 6, 18, 21, 30, 18, 815000, tzinfo=tzlocal()), 'LastModifiedTime': datetime.datetime(2025, 6, 18, 21, 42, 26, 778000, tzinfo=tzlocal()), 'CreatedBy': {'UserProfileArn': 'arn:aws:sagemaker:eu-north-1:703761849224:user-profile/d-g807byqfsrje/default-1750009708586', 'UserProfileName': 'default-1750009708586', 'DomainId': 'd-g807byqfsrje', 'IamIdentity': {'Arn': 'arn:aws:sts::703761849224:assumed-role/AmazonSageMaker-ExecutionRole-20250615T225694/SageMaker', 'PrincipalId': 'AROA2HW3ZTOEOBDXBHKWK:SageMaker'}}, 'LastModifiedBy': {'UserProfileArn': 'arn:aws:sagemaker:eu-north-1:703761849224:user-profile/d-g807byqfsrje/default-1750009708586', 'UserProfileName': 'default-1750009708586', 'DomainId': 'd-g807byqfsrje', 'IamIdentity': {'Arn': 'arn:aws:sts::703761849224:assumed-role/AmazonSageMaker-ExecutionRole-20250615T225694/SageMaker', 'PrincipalId': 'AROA2HW3ZTOEOBDXBHKWK:SageMaker'}}, 'ResponseMetadata': {'RequestId': '675c2ffd-024f-4efe-8bb1-348aaf806a4d', 'HTTPStatusCode': 200, 'HTTPHeaders': {'x-amzn-requestid': '675c2ffd-024f-4efe-8bb1-348aaf806a4d', 'content-type': 'application/x-amz-json-1.1', 'content-length': '1221', 'date': 'Wed, 18 Jun 2025 21:42:51 GMT'}, 'RetryAttempts': 0}}\n"
     ]
    }
   ],
   "source": [
    "import boto3\n",
    "import sagemaker\n",
    "import pandas as pd\n",
    "import numpy as np\n",
    "from sagemaker import get_execution_role\n",
    "from sagemaker.sklearn.processing import SKLearnProcessor\n",
    "from sagemaker.processing import ProcessingInput, ProcessingOutput\n",
    "from sagemaker.workflow.steps import ProcessingStep, TrainingStep\n",
    "from sagemaker.workflow.pipeline import Pipeline\n",
    "from sagemaker.inputs import TrainingInput\n",
    "from sagemaker.xgboost.estimator import XGBoost\n",
    "from sagemaker.tensorflow import TensorFlow\n",
    "from sagemaker.workflow.parameters import ParameterInteger, ParameterString\n",
    "\n",
    "# Initialize SageMaker\n",
    "session = sagemaker.Session()\n",
    "role = get_execution_role()\n",
    "region = boto3.Session().region_name\n",
    "\n",
    "# Configuration\n",
    "bucket = 'transactly-data-lake'\n",
    "prefix = 'Fraud_data/raw'\n",
    "s3_data_path = f's3://{bucket}/{prefix}/synthetic_fraud_dataset.csv'\n",
    "s3_output_path = f's3://{bucket}/{prefix}/output'\n",
    "\n",
    "# Define pipeline parameters\n",
    "processing_instance_count = ParameterInteger(name=\"ProcessingInstanceCount\", default_value=1)\n",
    "processing_instance_type = ParameterString(name=\"ProcessingInstanceType\", default_value=\"ml.m5.xlarge\")\n",
    "training_instance_type = ParameterString(name=\"TrainingInstanceType\", default_value=\"ml.m5.2xlarge\")\n",
    "gpu_instance_type = ParameterString(name=\"GPUInstanceType\", default_value=\"ml.c5.2xlarge\")\n",
    "\n",
    "# Step 1: Data Processing\n",
    "processor = SKLearnProcessor(\n",
    "    framework_version=\"1.2-1\",\n",
    "    role=role,\n",
    "    instance_type=processing_instance_type,\n",
    "    instance_count=processing_instance_count,\n",
    "    base_job_name=\"fraud-preprocessing\",\n",
    "    sagemaker_session=session,\n",
    ")\n",
    "\n",
    "process_step = ProcessingStep(\n",
    "    name=\"PreprocessData\",\n",
    "    processor=processor,\n",
    "    inputs=[\n",
    "        ProcessingInput(\n",
    "            source=s3_data_path,\n",
    "            destination=\"/opt/ml/processing/input\",\n",
    "            s3_data_distribution_type=\"ShardedByS3Key\"\n",
    "        )\n",
    "    ],\n",
    "    outputs=[\n",
    "        ProcessingOutput(\n",
    "            output_name=\"xgb_data\",\n",
    "            source=\"/opt/ml/processing/output/xgb\",\n",
    "            destination=f\"{s3_output_path}/xgb\"\n",
    "        ),\n",
    "        ProcessingOutput(\n",
    "            output_name=\"wd_data\",\n",
    "            source=\"/opt/ml/processing/output/wd\",\n",
    "            destination=f\"{s3_output_path}/wd\"\n",
    "        ),\n",
    "        ProcessingOutput(\n",
    "            output_name=\"preprocessor\",\n",
    "            source=\"/opt/ml/processing/preprocessor\",\n",
    "            destination=f\"{s3_output_path}/preprocessor\"\n",
    "        )\n",
    "    ],\n",
    "    code=\"preprocess.py\",\n",
    "    job_arguments=[\n",
    "        \"--input-data\", \"/opt/ml/processing/input\",\n",
    "        \"--output-data\", \"/opt/ml/processing/output\",\n",
    "        \"--preprocessor-output\", \"/opt/ml/processing/preprocessor\"\n",
    "    ]\n",
    ")\n",
    "\n",
    "# Step 2: XGBoost Model Training\n",
    "xgb_estimator = XGBoost(\n",
    "    entry_point=\"xgb_train.py\",\n",
    "    framework_version=\"1.7-1\",\n",
    "    instance_type=training_instance_type,\n",
    "    instance_count=1,\n",
    "    output_path=f\"{s3_output_path}/models/xgb\",\n",
    "    role=role,\n",
    "    base_job_name=\"xgb-training\",\n",
    "    sagemaker_session=session,\n",
    "    hyperparameters={\n",
    "        \"max_depth\": 5,\n",
    "        \"subsample\": 0.8,\n",
    "        \"scale_pos_weight\": 30,\n",
    "        \"objective\": \"binary:logistic\",\n",
    "        \"eval_metric\": \"aucpr\",\n",
    "        \"num_round\": 300\n",
    "    }\n",
    ")\n",
    "\n",
    "xgb_step = TrainingStep(\n",
    "    name=\"TrainXGBoost\",\n",
    "    estimator=xgb_estimator,\n",
    "    inputs={\n",
    "        \"train\": TrainingInput(\n",
    "            s3_data=process_step.properties.ProcessingOutputConfig.Outputs[\"xgb_data\"].S3Output.S3Uri,\n",
    "            content_type=\"text/csv\"\n",
    "        )\n",
    "    }\n",
    ")\n",
    "\n",
    "\n",
    "# Step 3: Wide & Deep Model Training\n",
    "# from sagemaker.tensorflow import TensorFlow\n",
    "# from sagemaker.inputs import TrainingInput\n",
    "# from sagemaker.workflow.steps import TrainingStep\n",
    "\n",
    "# tf_estimator = TensorFlow(\n",
    "#     entry_point=\"wd_train.py\",\n",
    "#     role=role,\n",
    "#     instance_count=1,\n",
    "#     instance_type=gpu_instance_type,  # e.g., \"ml.g4dn.xlarge\"\n",
    "#     framework_version=\"2.13\",         # ✅ TF 2.13 supports Python 3.9\n",
    "#     py_version=\"py310\",                # ✅ Upgrade to Python 3.9\n",
    "#     output_path=f\"{s3_output_path}/models/wd\",\n",
    "#     sagemaker_session=session,\n",
    "#     dependencies=[\"requirements.txt\"]\n",
    "# )\n",
    "\n",
    "# wd_step = TrainingStep(\n",
    "#     name=\"TrainWideDeep\",\n",
    "#     estimator=tf_estimator,\n",
    "#     inputs={\n",
    "#         \"train\": TrainingInput(\n",
    "#             s3_data=process_step.properties.ProcessingOutputConfig.Outputs[\"wd_data\"].S3Output.S3Uri,\n",
    "#             content_type=\"text/csv\"\n",
    "#         ),\n",
    "#         \"xgb_model\": TrainingInput(\n",
    "#             s3_data=xgb_step.properties.ModelArtifacts.S3ModelArtifacts,\n",
    "#             content_type=\"application/x-tar\"\n",
    "#         ),\n",
    "#         \"preprocessor\": TrainingInput(\n",
    "#             s3_data=process_step.properties.ProcessingOutputConfig.Outputs[\"preprocessor\"].S3Output.S3Uri,\n",
    "#             content_type=\"application/x-joblib\"\n",
    "#         )\n",
    "#     }\n",
    "# )\n",
    "\n",
    "from sagemaker.pytorch import PyTorch\n",
    "from sagemaker.inputs import TrainingInput\n",
    "from sagemaker.workflow.steps import TrainingStep\n",
    "\n",
    "pytorch_estimator = PyTorch(\n",
    "    entry_point=\"wd_train.py\",\n",
    "    role=role,\n",
    "    instance_count=1,\n",
    "    instance_type=gpu_instance_type,     # e.g., \"ml.g4dn.xlarge\"\n",
    "    framework_version=\"1.13\",            # Or the latest available\n",
    "    py_version=\"py39\",                   # Compatible with your local dev env\n",
    "    output_path=f\"{s3_output_path}/models/wd\",\n",
    "    sagemaker_session=session,\n",
    "    dependencies=[\"requirements.txt\"],\n",
    "    hyperparameters={\n",
    "        \"epochs\": 10,\n",
    "        \"batch_size\": 32,\n",
    "        \"lr\": 1e-3\n",
    "    }\n",
    ")\n",
    "\n",
    "wd_step = TrainingStep(\n",
    "    name=\"TrainWideDeep\",\n",
    "    estimator=pytorch_estimator,\n",
    "    inputs={\n",
    "        \"train\": TrainingInput(\n",
    "            s3_data=process_step.properties.ProcessingOutputConfig.Outputs[\"wd_data\"].S3Output.S3Uri,\n",
    "            content_type=\"text/csv\"\n",
    "        ),\n",
    "        \"xgb_model\": TrainingInput(\n",
    "            s3_data=xgb_step.properties.ModelArtifacts.S3ModelArtifacts,\n",
    "            content_type=\"application/x-tar\"\n",
    "        ),\n",
    "        \"preprocessor\": TrainingInput(\n",
    "            s3_data=process_step.properties.ProcessingOutputConfig.Outputs[\"preprocessor\"].S3Output.S3Uri,\n",
    "            content_type=\"application/x-joblib\"\n",
    "        )\n",
    "    }\n",
    ")\n",
    "# Define pipeline\n",
    "pipeline = Pipeline(\n",
    "    name=\"AmazonFraudDetectionPipeline\",\n",
    "    parameters=[\n",
    "        processing_instance_count,\n",
    "        processing_instance_type,\n",
    "        training_instance_type,\n",
    "        gpu_instance_type\n",
    "    ],\n",
    "    steps=[process_step, xgb_step, wd_step],\n",
    "    sagemaker_session=session\n",
    "    \n",
    ")\n",
    "\n",
    "# Upload and execute pipeline\n",
    "pipeline.upsert(role_arn=role)\n",
    "execution = pipeline.start()\n",
    "\n",
    "# Wait for the pipeline to finish\n",
    "execution.wait()\n",
    "\n",
    "# Print pipeline execution status\n",
    "print(execution.describe())"
   ]
  },
  {
   "cell_type": "code",
   "execution_count": 33,
   "id": "63fe8e00-ce79-4a62-b8ec-f43aa3ff1f93",
   "metadata": {
    "execution": {
     "iopub.execute_input": "2025-06-18T13:56:18.468306Z",
     "iopub.status.busy": "2025-06-18T13:56:18.467714Z",
     "iopub.status.idle": "2025-06-18T13:56:18.591086Z",
     "shell.execute_reply": "2025-06-18T13:56:18.590212Z",
     "shell.execute_reply.started": "2025-06-18T13:56:18.468276Z"
    }
   },
   "outputs": [
    {
     "name": "stdout",
     "output_type": "stream",
     "text": [
      "Step: TrainWideDeep, Status: Failed\n",
      "FailureReason: ClientError: AlgorithmError: InstallRequirementsError:\n",
      "ExitCode 1\n",
      "ErrorMessage \"\"\n",
      "Command \"/usr/local/bin/python3.10 -m pip install -r requirements.txt\", exit code: 1\n",
      "\n",
      "Step: TrainXGBoost, Status: Succeeded\n",
      "Step: PreprocessData, Status: Succeeded\n"
     ]
    }
   ],
   "source": [
    "# Get all steps and their execution status\n",
    "for step in execution.list_steps():\n",
    "    print(f\"Step: {step['StepName']}, Status: {step['StepStatus']}\")\n",
    "    if 'FailureReason' in step:\n",
    "        print(f\"FailureReason: {step['FailureReason']}\\n\")"
   ]
  },
  {
   "cell_type": "code",
   "execution_count": 51,
   "id": "c50e9d7c-a57d-4523-af4b-a832f5b1e5ad",
   "metadata": {
    "execution": {
     "iopub.execute_input": "2025-06-18T17:54:19.510828Z",
     "iopub.status.busy": "2025-06-18T17:54:19.510555Z",
     "iopub.status.idle": "2025-06-18T17:54:19.637363Z",
     "shell.execute_reply": "2025-06-18T17:54:19.636637Z",
     "shell.execute_reply.started": "2025-06-18T17:54:19.510807Z"
    }
   },
   "outputs": [
    {
     "data": {
      "text/plain": [
       "[{'StepName': 'TrainWideDeep',\n",
       "  'StartTime': datetime.datetime(2025, 6, 18, 17, 35, 0, 228000, tzinfo=tzlocal()),\n",
       "  'EndTime': datetime.datetime(2025, 6, 18, 17, 39, 38, 559000, tzinfo=tzlocal()),\n",
       "  'StepStatus': 'Succeeded',\n",
       "  'Metadata': {'TrainingJob': {'Arn': 'arn:aws:sagemaker:eu-north-1:703761849224:training-job/pipelines-59g49bgqtquu-TrainWideDeep-xga9kdsya7'}},\n",
       "  'AttemptCount': 1},\n",
       " {'StepName': 'TrainXGBoost',\n",
       "  'StartTime': datetime.datetime(2025, 6, 18, 17, 32, 36, 956000, tzinfo=tzlocal()),\n",
       "  'EndTime': datetime.datetime(2025, 6, 18, 17, 34, 59, 833000, tzinfo=tzlocal()),\n",
       "  'StepStatus': 'Succeeded',\n",
       "  'Metadata': {'TrainingJob': {'Arn': 'arn:aws:sagemaker:eu-north-1:703761849224:training-job/pipelines-59g49bgqtquu-TrainXGBoost-IBVJnoJB52'}},\n",
       "  'AttemptCount': 1},\n",
       " {'StepName': 'PreprocessData',\n",
       "  'StartTime': datetime.datetime(2025, 6, 18, 17, 30, 3, 905000, tzinfo=tzlocal()),\n",
       "  'EndTime': datetime.datetime(2025, 6, 18, 17, 32, 36, 199000, tzinfo=tzlocal()),\n",
       "  'StepStatus': 'Succeeded',\n",
       "  'Metadata': {'ProcessingJob': {'Arn': 'arn:aws:sagemaker:eu-north-1:703761849224:processing-job/pipelines-59g49bgqtquu-PreprocessData-fnMHPXkpt9'}},\n",
       "  'AttemptCount': 1}]"
      ]
     },
     "execution_count": 51,
     "metadata": {},
     "output_type": "execute_result"
    }
   ],
   "source": [
    "execution.list_steps()\n"
   ]
  },
  {
   "cell_type": "code",
   "execution_count": 50,
   "id": "bcf7e55d-2dde-414e-9625-1570ecc47f06",
   "metadata": {
    "execution": {
     "iopub.execute_input": "2025-06-18T17:42:34.952808Z",
     "iopub.status.busy": "2025-06-18T17:42:34.952123Z",
     "iopub.status.idle": "2025-06-18T17:42:35.036053Z",
     "shell.execute_reply": "2025-06-18T17:42:35.035411Z",
     "shell.execute_reply.started": "2025-06-18T17:42:34.952782Z"
    }
   },
   "outputs": [
    {
     "data": {
      "text/plain": [
       "[{'StepName': 'TrainWideDeep',\n",
       "  'StartTime': datetime.datetime(2025, 6, 18, 17, 35, 0, 228000, tzinfo=tzlocal()),\n",
       "  'EndTime': datetime.datetime(2025, 6, 18, 17, 39, 38, 559000, tzinfo=tzlocal()),\n",
       "  'StepStatus': 'Succeeded',\n",
       "  'Metadata': {'TrainingJob': {'Arn': 'arn:aws:sagemaker:eu-north-1:703761849224:training-job/pipelines-59g49bgqtquu-TrainWideDeep-xga9kdsya7'}},\n",
       "  'AttemptCount': 1},\n",
       " {'StepName': 'TrainXGBoost',\n",
       "  'StartTime': datetime.datetime(2025, 6, 18, 17, 32, 36, 956000, tzinfo=tzlocal()),\n",
       "  'EndTime': datetime.datetime(2025, 6, 18, 17, 34, 59, 833000, tzinfo=tzlocal()),\n",
       "  'StepStatus': 'Succeeded',\n",
       "  'Metadata': {'TrainingJob': {'Arn': 'arn:aws:sagemaker:eu-north-1:703761849224:training-job/pipelines-59g49bgqtquu-TrainXGBoost-IBVJnoJB52'}},\n",
       "  'AttemptCount': 1},\n",
       " {'StepName': 'PreprocessData',\n",
       "  'StartTime': datetime.datetime(2025, 6, 18, 17, 30, 3, 905000, tzinfo=tzlocal()),\n",
       "  'EndTime': datetime.datetime(2025, 6, 18, 17, 32, 36, 199000, tzinfo=tzlocal()),\n",
       "  'StepStatus': 'Succeeded',\n",
       "  'Metadata': {'ProcessingJob': {'Arn': 'arn:aws:sagemaker:eu-north-1:703761849224:processing-job/pipelines-59g49bgqtquu-PreprocessData-fnMHPXkpt9'}},\n",
       "  'AttemptCount': 1}]"
      ]
     },
     "execution_count": 50,
     "metadata": {},
     "output_type": "execute_result"
    }
   ],
   "source": [
    "execution.list_steps()\n"
   ]
  },
  {
   "cell_type": "code",
   "execution_count": 29,
   "id": "ad3b785c-2c87-4287-be61-3cea3a7a50b0",
   "metadata": {
    "execution": {
     "iopub.execute_input": "2025-06-18T13:40:39.832011Z",
     "iopub.status.busy": "2025-06-18T13:40:39.831727Z",
     "iopub.status.idle": "2025-06-18T13:40:39.996494Z",
     "shell.execute_reply": "2025-06-18T13:40:39.995675Z",
     "shell.execute_reply.started": "2025-06-18T13:40:39.831991Z"
    }
   },
   "outputs": [
    {
     "name": "stdout",
     "output_type": "stream",
     "text": [
      "Python 3.12.9\n"
     ]
    }
   ],
   "source": [
    "!python --version\n"
   ]
  },
  {
   "cell_type": "code",
   "execution_count": null,
   "id": "1b4cc641-b7c3-4f76-938f-dc15514c3ed7",
   "metadata": {},
   "outputs": [],
   "source": []
  }
 ],
 "metadata": {
  "kernelspec": {
   "display_name": "Python 3 (ipykernel)",
   "language": "python",
   "name": "python3"
  },
  "language_info": {
   "codemirror_mode": {
    "name": "ipython",
    "version": 3
   },
   "file_extension": ".py",
   "mimetype": "text/x-python",
   "name": "python",
   "nbconvert_exporter": "python",
   "pygments_lexer": "ipython3",
   "version": "3.12.9"
  }
 },
 "nbformat": 4,
 "nbformat_minor": 5
}
